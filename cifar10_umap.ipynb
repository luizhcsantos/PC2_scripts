{
 "cells": [
  {
   "metadata": {},
   "cell_type": "raw",
   "source": [
    "```python\n",
    "# Importando as bibliotecas necessárias\n",
    "import numpy as np\n",
    "from keras.datasets import cifar10\n",
    "import umap.umap_ as umap\n",
    "import matplotlib.pyplot as plt\n",
    "import seaborn as sns\n",
    "\n",
    "# Carregando o conjunto de dados CIFAR-10\n",
    "(X_train, y_train), (X_test, y_test) = cifar10.load_data()\n",
    "\n",
    "# Redimensionando os dados para 2D (mantendo apenas os pixels)\n",
    "X_train_reshaped = X_train.reshape((X_train.shape[0], -1))\n",
    "\n",
    "# Normalizando os dados\n",
    "X_train_normalized = X_train_reshaped / 255.0\n",
    "\n",
    "print(\"Forma original dos dados:\", X_train.shape)\n",
    "print(\"Forma após reshape:\", X_train_reshaped.shape)\n",
    "\n",
    "# Aplicando UMAP (usando apenas 5000 amostras para exemplo, pois é computacionalmente intensivo)\n",
    "reducer = umap.UMAP(random_state=42)\n",
    "embedding = reducer.fit_transform(X_train_normalized[:5000])\n",
    "\n",
    "print(\"Forma após UMAP:\", embedding.shape)\n",
    "\n",
    "# Visualizando os resultados\n",
    "plt.figure(figsize=(10, 8))\n",
    "scatter = plt.scatter(embedding[:, 0], embedding[:, 1], \n",
    "                     c=y_train[:5000], cmap='Spectral', \n",
    "                     s=5, alpha=0.8)\n",
    "plt.colorbar(scatter)\n",
    "plt.title('Projeção UMAP do CIFAR-10')\n",
    "plt.xlabel('UMAP 1')\n",
    "plt.ylabel('UMAP 2')\n",
    "plt.show()"
   ],
   "id": "52694c105ae14a99"
  }
 ],
 "metadata": {
  "kernelspec": {
   "display_name": "Python 3",
   "language": "python",
   "name": "python3"
  },
  "language_info": {
   "codemirror_mode": {
    "name": "ipython",
    "version": 2
   },
   "file_extension": ".py",
   "mimetype": "text/x-python",
   "name": "python",
   "nbconvert_exporter": "python",
   "pygments_lexer": "ipython2",
   "version": "2.7.6"
  }
 },
 "nbformat": 4,
 "nbformat_minor": 5
}
