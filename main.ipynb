{
 "cells": [
  {
   "cell_type": "code",
   "execution_count": 1,
   "id": "af7b5b7f",
   "metadata": {},
   "outputs": [],
   "source": [
    "#!pip install requests\n",
    "#!pip install matplotlib\n",
    "#!pip install pandas\n",
    "import requests\n",
    "import zipfile\n",
    "import os\n",
    "from io import BytesIO\n",
    "import matplotlib.pyplot as plt\n",
    "import matplotlib.image as mpimg\n",
    "import pandas as pd\n",
    "from PIL import Image\n",
    "\n"
   ]
  },
  {
   "cell_type": "code",
   "execution_count": 7,
   "id": "4954630a",
   "metadata": {},
   "outputs": [],
   "source": [
    "# Instale a API do Kaggle\n",
    "import os\n",
    "import subprocess\n",
    "\n",
    "# Configurações\n",
    "KAGGLE_USER = 'luizhcsantosO'  # ← Substitua!\n",
    "KAGGLE_KEY = '44843bab094eacfa003487275bd4d625E'     # ← Substitua!\n",
    "\n",
    "# Configura ambiente\n",
    "os.environ['KAGGLE_USERNAME'] = KAGGLE_USER\n",
    "os.environ['KAGGLE_KEY'] = KAGGLE_KEY\n",
    "\n"
   ]
  },
  {
   "cell_type": "code",
   "execution_count": 8,
   "id": "3bb22db8",
   "metadata": {},
   "outputs": [],
   "source": [
    "# basta trocar p npme do dataset desejado e reexecutar a célula abaixo \n",
    "\n",
    "# Baixa o dataset do Kaggle\n",
    "#DATASET_ID = 'harunshimanto/epileptic-seizure-recognition'\n",
    "#DATASET_ID = 'zalando-research/fashionmnist'\n",
    "#DATASET_ID = 'kasikrit/att-database-of-faces'\n",
    "DATASET_ID = 'uciml/sms-spam-collection-dataset'"
   ]
  },
  {
   "cell_type": "code",
   "execution_count": 9,
   "id": "704731e5",
   "metadata": {},
   "outputs": [
    {
     "name": "stdout",
     "output_type": "stream",
     "text": [
      "Download concluído com sucesso!\n"
     ]
    }
   ],
   "source": [
    "try:\n",
    "    # Comando de download\n",
    "    cmd = f'kaggle datasets download -d {DATASET_ID}'\n",
    "    subprocess.run(cmd, shell=True, check=True)\n",
    "    \n",
    "    print(\"Download concluído com sucesso!\")\n",
    "\n",
    "except subprocess.CalledProcessError as e:\n",
    "    print(f\"Erro {e.returncode}: {e.output}\")\n",
    "    print(\"Soluções possíveis:\")\n",
    "    print(\"1. Verifique username/key em https://www.kaggle.com/settings\")\n",
    "    print(\"2. Renomeie o dataset se estiver desatualizado\")\n",
    "    print(\"3. Execute manualmente no terminal: \", cmd)\n"
   ]
  },
  {
   "cell_type": "code",
   "execution_count": 15,
   "id": "f7570a59",
   "metadata": {},
   "outputs": [
    {
     "data": {
      "text/plain": [
       "()"
      ]
     },
     "execution_count": 15,
     "metadata": {},
     "output_type": "execute_result"
    }
   ],
   "source": [
    "from zipfile import ZipFile\n",
    "# Extrai o arquivo zip\n",
    "with ZipFile('SMS/sms-spam-collection-dataset.zip', 'r') as zip_ref:\n",
    "    zip_ref.extractall('SMS')\n",
    "\n",
    "()"
   ]
  },
  {
   "cell_type": "code",
   "execution_count": null,
   "id": "b59905c4",
   "metadata": {},
   "outputs": [],
   "source": [
    "df = pd.read_csv('spam.csv/spam.csv', encoding='latin-1')\n",
    "\n",
    "df.head"
   ]
  }
 ],
 "metadata": {
  "kernelspec": {
   "display_name": ".venv",
   "language": "python",
   "name": "python3"
  },
  "language_info": {
   "codemirror_mode": {
    "name": "ipython",
    "version": 3
   },
   "file_extension": ".py",
   "mimetype": "text/x-python",
   "name": "python",
   "nbconvert_exporter": "python",
   "pygments_lexer": "ipython3",
   "version": "3.13.1"
  }
 },
 "nbformat": 4,
 "nbformat_minor": 5
}
